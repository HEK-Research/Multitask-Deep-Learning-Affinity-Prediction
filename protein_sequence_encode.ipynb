{
 "cells": [
  {
   "cell_type": "code",
   "execution_count": 3,
   "id": "f302399f-2f17-4746-9338-53dd970954e3",
   "metadata": {},
   "outputs": [],
   "source": [
    "import numpy as np\n",
    "import pandas as pd\n",
    "\n",
    "import sequence_tools"
   ]
  },
  {
   "cell_type": "markdown",
   "id": "0e671636-75bc-4e76-81a3-52034ea98ca4",
   "metadata": {},
   "source": [
    "## Perform different encoding of protein sequence\n",
    "\n",
    "### Method 1, Directly encode sequence\n",
    "* **One-Hot Encoding** (using tensorflow.keras.preprocessing)\n",
    "\n",
    "  sequence_tools.get_one_hot_encoding(file, ID_col)"
   ]
  },
  {
   "cell_type": "markdown",
   "id": "fbdb1c29-cfb8-47d9-a7b7-879a3fd6dcb6",
   "metadata": {},
   "source": [
    "##### AD ChEMBL_Datasets"
   ]
  },
  {
   "cell_type": "code",
   "execution_count": null,
   "id": "4e895bb6-684a-45cd-8fe2-3b78b203f8d8",
   "metadata": {},
   "outputs": [],
   "source": [
    "file = \"AD targets_ID.csv\"\n",
    "path = \"/ccs/proj/gen243/nina23bom/Target_Information/\"\n",
    "targets = pd.read_csv(path+file)\n",
    "targets['sequence'] = [sequence_tools.Get_Sequence(x, path) for x in targets['Uniprot_ID']]"
   ]
  },
  {
   "cell_type": "code",
   "execution_count": null,
   "id": "c68c54d7-79aa-4c44-8de4-cea3d7ab05db",
   "metadata": {},
   "outputs": [],
   "source": [
    "targets.head(2)"
   ]
  },
  {
   "cell_type": "code",
   "execution_count": null,
   "id": "10d52a1f-cec6-466a-b425-c2a33a0d1258",
   "metadata": {},
   "outputs": [],
   "source": [
    "targets.to_csv(path+file,index=False)"
   ]
  },
  {
   "cell_type": "code",
   "execution_count": 7,
   "id": "043eee9e-827d-4ed5-870d-dec1f4753f1b",
   "metadata": {},
   "outputs": [
    {
     "name": "stdout",
     "output_type": "stream",
     "text": [
      "The max sequence length is 1212\n",
      "Total of 29 sequences are encoded, with a length of 25452\n"
     ]
    },
    {
     "name": "stderr",
     "output_type": "stream",
     "text": [
      "2023-08-10 13:54:13.047130: I tensorflow/core/common_runtime/gpu/gpu_device.cc:1639] Created device /job:localhost/replica:0/task:0/device:GPU:0 with 14617 MB memory:  -> device: 0, name: Tesla V100-PCIE-16GB, pci bus id: 0000:3b:00.0, compute capability: 7.0\n"
     ]
    }
   ],
   "source": [
    "encoded_df = sequence_tools.get_one_hot_encoding(targets, ID_col=\"Uniprot_ID\")"
   ]
  },
  {
   "cell_type": "code",
   "execution_count": 8,
   "id": "5186b2f3-3a36-451a-aedb-86c1e5e0c178",
   "metadata": {},
   "outputs": [
    {
     "data": {
      "text/html": [
       "<div>\n",
       "<style scoped>\n",
       "    .dataframe tbody tr th:only-of-type {\n",
       "        vertical-align: middle;\n",
       "    }\n",
       "\n",
       "    .dataframe tbody tr th {\n",
       "        vertical-align: top;\n",
       "    }\n",
       "\n",
       "    .dataframe thead th {\n",
       "        text-align: right;\n",
       "    }\n",
       "</style>\n",
       "<table border=\"1\" class=\"dataframe\">\n",
       "  <thead>\n",
       "    <tr style=\"text-align: right;\">\n",
       "      <th></th>\n",
       "      <th>0</th>\n",
       "      <th>1</th>\n",
       "      <th>2</th>\n",
       "      <th>3</th>\n",
       "      <th>4</th>\n",
       "      <th>5</th>\n",
       "      <th>6</th>\n",
       "      <th>7</th>\n",
       "      <th>8</th>\n",
       "      <th>9</th>\n",
       "      <th>...</th>\n",
       "      <th>25442</th>\n",
       "      <th>25443</th>\n",
       "      <th>25444</th>\n",
       "      <th>25445</th>\n",
       "      <th>25446</th>\n",
       "      <th>25447</th>\n",
       "      <th>25448</th>\n",
       "      <th>25449</th>\n",
       "      <th>25450</th>\n",
       "      <th>25451</th>\n",
       "    </tr>\n",
       "  </thead>\n",
       "  <tbody>\n",
       "    <tr>\n",
       "      <th>P50406</th>\n",
       "      <td>0.0</td>\n",
       "      <td>0.0</td>\n",
       "      <td>0.0</td>\n",
       "      <td>0.0</td>\n",
       "      <td>0.0</td>\n",
       "      <td>0.0</td>\n",
       "      <td>0.0</td>\n",
       "      <td>0.0</td>\n",
       "      <td>0.0</td>\n",
       "      <td>0.0</td>\n",
       "      <td>...</td>\n",
       "      <td>0.0</td>\n",
       "      <td>0.0</td>\n",
       "      <td>0.0</td>\n",
       "      <td>0.0</td>\n",
       "      <td>0.0</td>\n",
       "      <td>0.0</td>\n",
       "      <td>0.0</td>\n",
       "      <td>0.0</td>\n",
       "      <td>0.0</td>\n",
       "      <td>0.0</td>\n",
       "    </tr>\n",
       "    <tr>\n",
       "      <th>Q13639</th>\n",
       "      <td>0.0</td>\n",
       "      <td>0.0</td>\n",
       "      <td>0.0</td>\n",
       "      <td>0.0</td>\n",
       "      <td>0.0</td>\n",
       "      <td>0.0</td>\n",
       "      <td>0.0</td>\n",
       "      <td>0.0</td>\n",
       "      <td>0.0</td>\n",
       "      <td>0.0</td>\n",
       "      <td>...</td>\n",
       "      <td>0.0</td>\n",
       "      <td>0.0</td>\n",
       "      <td>0.0</td>\n",
       "      <td>0.0</td>\n",
       "      <td>0.0</td>\n",
       "      <td>0.0</td>\n",
       "      <td>0.0</td>\n",
       "      <td>0.0</td>\n",
       "      <td>0.0</td>\n",
       "      <td>0.0</td>\n",
       "    </tr>\n",
       "  </tbody>\n",
       "</table>\n",
       "<p>2 rows × 25452 columns</p>\n",
       "</div>"
      ],
      "text/plain": [
       "        0      1      2      3      4      5      6      7      8      9      \\\n",
       "P50406    0.0    0.0    0.0    0.0    0.0    0.0    0.0    0.0    0.0    0.0   \n",
       "Q13639    0.0    0.0    0.0    0.0    0.0    0.0    0.0    0.0    0.0    0.0   \n",
       "\n",
       "        ...  25442  25443  25444  25445  25446  25447  25448  25449  25450  \\\n",
       "P50406  ...    0.0    0.0    0.0    0.0    0.0    0.0    0.0    0.0    0.0   \n",
       "Q13639  ...    0.0    0.0    0.0    0.0    0.0    0.0    0.0    0.0    0.0   \n",
       "\n",
       "        25451  \n",
       "P50406    0.0  \n",
       "Q13639    0.0  \n",
       "\n",
       "[2 rows x 25452 columns]"
      ]
     },
     "execution_count": 8,
     "metadata": {},
     "output_type": "execute_result"
    }
   ],
   "source": [
    "encoded_df.head(2)"
   ]
  },
  {
   "cell_type": "code",
   "execution_count": 9,
   "id": "cc2f0e9a-c829-4f27-9c8d-9ca76f57bffe",
   "metadata": {},
   "outputs": [],
   "source": [
    "encoded_df.to_csv(path+\"one-hot-encoded.csv\")"
   ]
  },
  {
   "cell_type": "markdown",
   "id": "0fb346f2-558d-4c02-a2a1-7273a4937764",
   "metadata": {},
   "source": [
    "#####  Enantioselectivity"
   ]
  },
  {
   "cell_type": "code",
   "execution_count": 14,
   "id": "8cc2e356-d893-4bc8-ac4a-4cf22c3f022b",
   "metadata": {},
   "outputs": [],
   "source": [
    "file = \"enantioselectivity.txt\"\n",
    "path = \"/ccs/proj/gen243/nina23bom/doc2vec/docvec_datasets/\"\n",
    "df = pd.read_csv(path+file)"
   ]
  },
  {
   "cell_type": "code",
   "execution_count": 15,
   "id": "1ffe4f4f-41ba-4293-9e97-1c3248b964a4",
   "metadata": {},
   "outputs": [
    {
     "data": {
      "text/html": [
       "<div>\n",
       "<style scoped>\n",
       "    .dataframe tbody tr th:only-of-type {\n",
       "        vertical-align: middle;\n",
       "    }\n",
       "\n",
       "    .dataframe tbody tr th {\n",
       "        vertical-align: top;\n",
       "    }\n",
       "\n",
       "    .dataframe thead th {\n",
       "        text-align: right;\n",
       "    }\n",
       "</style>\n",
       "<table border=\"1\" class=\"dataframe\">\n",
       "  <thead>\n",
       "    <tr style=\"text-align: right;\">\n",
       "      <th></th>\n",
       "      <th>name</th>\n",
       "      <th>sequence</th>\n",
       "      <th>e-value</th>\n",
       "      <th>is_train</th>\n",
       "      <th>m</th>\n",
       "    </tr>\n",
       "  </thead>\n",
       "  <tbody>\n",
       "    <tr>\n",
       "      <th>0</th>\n",
       "      <td>EFB_1</td>\n",
       "      <td>MSAPFAKFPSSASISPNPFTVSIPDEQLDDLKTLVRLSKIAPPTYE...</td>\n",
       "      <td>35.0</td>\n",
       "      <td>True</td>\n",
       "      <td>4</td>\n",
       "    </tr>\n",
       "    <tr>\n",
       "      <th>1</th>\n",
       "      <td>DEF_1</td>\n",
       "      <td>MSAPFAKFPSSASISPNPFTVSIPDEQLDDLKTLVRLSKIAPPTYE...</td>\n",
       "      <td>73.0</td>\n",
       "      <td>True</td>\n",
       "      <td>6</td>\n",
       "    </tr>\n",
       "  </tbody>\n",
       "</table>\n",
       "</div>"
      ],
      "text/plain": [
       "    name                                           sequence  e-value  \\\n",
       "0  EFB_1  MSAPFAKFPSSASISPNPFTVSIPDEQLDDLKTLVRLSKIAPPTYE...     35.0   \n",
       "1  DEF_1  MSAPFAKFPSSASISPNPFTVSIPDEQLDDLKTLVRLSKIAPPTYE...     73.0   \n",
       "\n",
       "   is_train  m  \n",
       "0      True  4  \n",
       "1      True  6  "
      ]
     },
     "execution_count": 15,
     "metadata": {},
     "output_type": "execute_result"
    }
   ],
   "source": [
    "df.head(2)"
   ]
  },
  {
   "cell_type": "code",
   "execution_count": 16,
   "id": "3a317f3a-7fa2-47d6-ac72-1ddab426cc14",
   "metadata": {},
   "outputs": [
    {
     "name": "stdout",
     "output_type": "stream",
     "text": [
      "The max sequence length is 398\n",
      "Total of 152 sequences are encoded, with a length of 8358\n"
     ]
    }
   ],
   "source": [
    "encoded_df = sequence_tools.get_one_hot_encoding(df, ID_col=\"name\")"
   ]
  },
  {
   "cell_type": "code",
   "execution_count": 17,
   "id": "d33ad620-bc75-42e7-a1da-b6ac6969ea2d",
   "metadata": {},
   "outputs": [
    {
     "data": {
      "text/html": [
       "<div>\n",
       "<style scoped>\n",
       "    .dataframe tbody tr th:only-of-type {\n",
       "        vertical-align: middle;\n",
       "    }\n",
       "\n",
       "    .dataframe tbody tr th {\n",
       "        vertical-align: top;\n",
       "    }\n",
       "\n",
       "    .dataframe thead th {\n",
       "        text-align: right;\n",
       "    }\n",
       "</style>\n",
       "<table border=\"1\" class=\"dataframe\">\n",
       "  <thead>\n",
       "    <tr style=\"text-align: right;\">\n",
       "      <th></th>\n",
       "      <th>0</th>\n",
       "      <th>1</th>\n",
       "      <th>2</th>\n",
       "      <th>3</th>\n",
       "      <th>4</th>\n",
       "      <th>5</th>\n",
       "      <th>6</th>\n",
       "      <th>7</th>\n",
       "      <th>8</th>\n",
       "      <th>9</th>\n",
       "      <th>...</th>\n",
       "      <th>8348</th>\n",
       "      <th>8349</th>\n",
       "      <th>8350</th>\n",
       "      <th>8351</th>\n",
       "      <th>8352</th>\n",
       "      <th>8353</th>\n",
       "      <th>8354</th>\n",
       "      <th>8355</th>\n",
       "      <th>8356</th>\n",
       "      <th>8357</th>\n",
       "    </tr>\n",
       "  </thead>\n",
       "  <tbody>\n",
       "    <tr>\n",
       "      <th>EFB_1</th>\n",
       "      <td>0.0</td>\n",
       "      <td>0.0</td>\n",
       "      <td>0.0</td>\n",
       "      <td>0.0</td>\n",
       "      <td>0.0</td>\n",
       "      <td>0.0</td>\n",
       "      <td>0.0</td>\n",
       "      <td>0.0</td>\n",
       "      <td>0.0</td>\n",
       "      <td>0.0</td>\n",
       "      <td>...</td>\n",
       "      <td>0.0</td>\n",
       "      <td>0.0</td>\n",
       "      <td>1.0</td>\n",
       "      <td>0.0</td>\n",
       "      <td>0.0</td>\n",
       "      <td>0.0</td>\n",
       "      <td>0.0</td>\n",
       "      <td>0.0</td>\n",
       "      <td>0.0</td>\n",
       "      <td>0.0</td>\n",
       "    </tr>\n",
       "    <tr>\n",
       "      <th>DEF_1</th>\n",
       "      <td>0.0</td>\n",
       "      <td>0.0</td>\n",
       "      <td>0.0</td>\n",
       "      <td>0.0</td>\n",
       "      <td>0.0</td>\n",
       "      <td>0.0</td>\n",
       "      <td>0.0</td>\n",
       "      <td>0.0</td>\n",
       "      <td>0.0</td>\n",
       "      <td>0.0</td>\n",
       "      <td>...</td>\n",
       "      <td>0.0</td>\n",
       "      <td>0.0</td>\n",
       "      <td>1.0</td>\n",
       "      <td>0.0</td>\n",
       "      <td>0.0</td>\n",
       "      <td>0.0</td>\n",
       "      <td>0.0</td>\n",
       "      <td>0.0</td>\n",
       "      <td>0.0</td>\n",
       "      <td>0.0</td>\n",
       "    </tr>\n",
       "  </tbody>\n",
       "</table>\n",
       "<p>2 rows × 8358 columns</p>\n",
       "</div>"
      ],
      "text/plain": [
       "       0     1     2     3     4     5     6     7     8     9     ...  8348  \\\n",
       "EFB_1   0.0   0.0   0.0   0.0   0.0   0.0   0.0   0.0   0.0   0.0  ...   0.0   \n",
       "DEF_1   0.0   0.0   0.0   0.0   0.0   0.0   0.0   0.0   0.0   0.0  ...   0.0   \n",
       "\n",
       "       8349  8350  8351  8352  8353  8354  8355  8356  8357  \n",
       "EFB_1   0.0   1.0   0.0   0.0   0.0   0.0   0.0   0.0   0.0  \n",
       "DEF_1   0.0   1.0   0.0   0.0   0.0   0.0   0.0   0.0   0.0  \n",
       "\n",
       "[2 rows x 8358 columns]"
      ]
     },
     "execution_count": 17,
     "metadata": {},
     "output_type": "execute_result"
    }
   ],
   "source": [
    "encoded_df.head(2)"
   ]
  },
  {
   "cell_type": "code",
   "execution_count": 18,
   "id": "b01f4193-1463-4acd-b2e8-91b65beae7b3",
   "metadata": {},
   "outputs": [
    {
     "data": {
      "text/html": [
       "<div>\n",
       "<style scoped>\n",
       "    .dataframe tbody tr th:only-of-type {\n",
       "        vertical-align: middle;\n",
       "    }\n",
       "\n",
       "    .dataframe tbody tr th {\n",
       "        vertical-align: top;\n",
       "    }\n",
       "\n",
       "    .dataframe thead th {\n",
       "        text-align: right;\n",
       "    }\n",
       "</style>\n",
       "<table border=\"1\" class=\"dataframe\">\n",
       "  <thead>\n",
       "    <tr style=\"text-align: right;\">\n",
       "      <th></th>\n",
       "      <th>name</th>\n",
       "      <th>sequence</th>\n",
       "      <th>e-value</th>\n",
       "      <th>is_train</th>\n",
       "      <th>m</th>\n",
       "    </tr>\n",
       "  </thead>\n",
       "  <tbody>\n",
       "    <tr>\n",
       "      <th>0</th>\n",
       "      <td>EFB_1</td>\n",
       "      <td>MSAPFAKFPSSASISPNPFTVSIPDEQLDDLKTLVRLSKIAPPTYE...</td>\n",
       "      <td>35.0</td>\n",
       "      <td>True</td>\n",
       "      <td>4</td>\n",
       "    </tr>\n",
       "    <tr>\n",
       "      <th>1</th>\n",
       "      <td>DEF_1</td>\n",
       "      <td>MSAPFAKFPSSASISPNPFTVSIPDEQLDDLKTLVRLSKIAPPTYE...</td>\n",
       "      <td>73.0</td>\n",
       "      <td>True</td>\n",
       "      <td>6</td>\n",
       "    </tr>\n",
       "  </tbody>\n",
       "</table>\n",
       "</div>"
      ],
      "text/plain": [
       "    name                                           sequence  e-value  \\\n",
       "0  EFB_1  MSAPFAKFPSSASISPNPFTVSIPDEQLDDLKTLVRLSKIAPPTYE...     35.0   \n",
       "1  DEF_1  MSAPFAKFPSSASISPNPFTVSIPDEQLDDLKTLVRLSKIAPPTYE...     73.0   \n",
       "\n",
       "   is_train  m  \n",
       "0      True  4  \n",
       "1      True  6  "
      ]
     },
     "execution_count": 18,
     "metadata": {},
     "output_type": "execute_result"
    }
   ],
   "source": [
    "df.head(2)"
   ]
  },
  {
   "cell_type": "code",
   "execution_count": null,
   "id": "5c25e426-dc2c-4e80-b691-016463de2a54",
   "metadata": {},
   "outputs": [],
   "source": []
  },
  {
   "cell_type": "code",
   "execution_count": null,
   "id": "e9131135-b954-4270-ae46-42d5dc07cc43",
   "metadata": {},
   "outputs": [],
   "source": [
    "y_col = 'e-value'"
   ]
  },
  {
   "cell_type": "code",
   "execution_count": null,
   "id": "96abdd8e-7a83-492e-9a3d-312fb6250c0a",
   "metadata": {},
   "outputs": [],
   "source": []
  },
  {
   "cell_type": "code",
   "execution_count": null,
   "id": "dcff0ae2-3eef-4427-b869-cc61485970a7",
   "metadata": {},
   "outputs": [],
   "source": []
  },
  {
   "cell_type": "code",
   "execution_count": null,
   "id": "8d748c78-4295-4ae3-a19c-0dbcd7f7bd65",
   "metadata": {},
   "outputs": [],
   "source": []
  }
 ],
 "metadata": {
  "kernelspec": {
   "display_name": "OLCF-CUDA11 (ipykernel)",
   "language": "python",
   "name": "python3"
  },
  "language_info": {
   "codemirror_mode": {
    "name": "ipython",
    "version": 3
   },
   "file_extension": ".py",
   "mimetype": "text/x-python",
   "name": "python",
   "nbconvert_exporter": "python",
   "pygments_lexer": "ipython3",
   "version": "3.11.4"
  }
 },
 "nbformat": 4,
 "nbformat_minor": 5
}
