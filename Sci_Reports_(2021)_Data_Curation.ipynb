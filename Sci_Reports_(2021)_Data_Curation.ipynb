{
  "nbformat": 4,
  "nbformat_minor": 0,
  "metadata": {
    "colab": {
      "provenance": [],
      "include_colab_link": true
    },
    "kernelspec": {
      "name": "python3",
      "display_name": "Python 3"
    },
    "language_info": {
      "name": "python"
    }
  },
  "cells": [
    {
      "cell_type": "markdown",
      "metadata": {
        "id": "view-in-github",
        "colab_type": "text"
      },
      "source": [
        "<a href=\"https://colab.research.google.com/github/HEK-Research/Multitask-Deep-Learning-Affinity-Prediction/blob/Dje/Sci_Reports_(2021)_Data_Curation.ipynb\" target=\"_parent\"><img src=\"https://colab.research.google.com/assets/colab-badge.svg\" alt=\"Open In Colab\"/></a>"
      ]
    },
    {
      "cell_type": "markdown",
      "source": [
        "Tried using other variations of some lines of codes, some worked, some didn't. They're mostly at the bottom section of this notebook along with a question or 2."
      ],
      "metadata": {
        "id": "AtxZYj32XeEK"
      }
    },
    {
      "cell_type": "code",
      "source": [
        "from google.colab import drive\n",
        "drive.mount('/content/drive')"
      ],
      "metadata": {
        "colab": {
          "base_uri": "https://localhost:8080/"
        },
        "id": "CJIz0_GkvJDM",
        "outputId": "9024966d-8ba9-4455-8664-9ba580280328"
      },
      "execution_count": 61,
      "outputs": [
        {
          "output_type": "stream",
          "name": "stdout",
          "text": [
            "Drive already mounted at /content/drive; to attempt to forcibly remount, call drive.mount(\"/content/drive\", force_remount=True).\n"
          ]
        }
      ]
    },
    {
      "cell_type": "code",
      "execution_count": 62,
      "metadata": {
        "id": "oWZaBb7WtsIy"
      },
      "outputs": [],
      "source": [
        "import pandas as pd\n",
        "import numpy as np"
      ]
    },
    {
      "cell_type": "markdown",
      "source": [
        "##### After I have mounted drive to Colab, I can access any files in my Google Drive by modify the file_path (see below). You can make a copy of the entire dataset folder to your own Google Drive and modify the path accordingly. "
      ],
      "metadata": {
        "id": "5JOgCtC-viLR"
      }
    },
    {
      "cell_type": "code",
      "source": [
        "file_path = '/content/drive/MyDrive/Project_4_MTDNN/ChEMBL Datasets/CHEMBL3371.csv'"
      ],
      "metadata": {
        "id": "OCOUiamhuHsO"
      },
      "execution_count": 63,
      "outputs": []
    },
    {
      "cell_type": "code",
      "source": [
        "# Read in the original ChEMBL dataset\n",
        "df = pd.read_csv(file_path,   delimiter=';', skiprows=0, low_memory=False)\n"
      ],
      "metadata": {
        "id": "gS6SbmxduhST"
      },
      "execution_count": 64,
      "outputs": []
    },
    {
      "cell_type": "code",
      "source": [
        "#Size of the dataset\n",
        "print(df.shape)"
      ],
      "metadata": {
        "colab": {
          "base_uri": "https://localhost:8080/"
        },
        "id": "eGDmjGu_KRNT",
        "outputId": "802ac700-73d7-4960-d4b2-bc2a90018734"
      },
      "execution_count": 65,
      "outputs": [
        {
          "output_type": "stream",
          "name": "stdout",
          "text": [
            "(9363, 45)\n"
          ]
        }
      ]
    },
    {
      "cell_type": "code",
      "source": [
        "df #or print(df)"
      ],
      "metadata": {
        "colab": {
          "base_uri": "https://localhost:8080/",
          "height": 925
        },
        "id": "fhmONn_oU08X",
        "outputId": "f0b12574-aa21-41b9-8dbc-1d3ff1eb0451"
      },
      "execution_count": 66,
      "outputs": [
        {
          "output_type": "execute_result",
          "data": {
            "text/plain": [
              "     Molecule ChEMBL ID Molecule Name Molecule Max Phase Molecular Weight  \\\n",
              "0         CHEMBL1783973           NaN               None           388.56   \n",
              "1           CHEMBL72554           NaN               None           408.52   \n",
              "2          CHEMBL180221           NaN               None           386.90   \n",
              "3         CHEMBL4438777           NaN               None           364.42   \n",
              "4              CHEMBL39     SEROTONIN                3.0           176.22   \n",
              "...                 ...           ...                ...              ...   \n",
              "9358      CHEMBL4543737          Al11               None           410.84   \n",
              "9359      CHEMBL4780458           NaN               None           457.42   \n",
              "9360      CHEMBL4537673       BAY-985               None           553.59   \n",
              "9361      CHEMBL4846153           NaN               None           426.93   \n",
              "9362      CHEMBL3358954     BI 653048                1.0           515.53   \n",
              "\n",
              "     #RO5 Violations AlogP Compound Key  \\\n",
              "0                  0  4.04        3{22}   \n",
              "1                  0  4.14           5b   \n",
              "2                  0  4.25          12b   \n",
              "3                  0  4.91  20; PKS-183   \n",
              "4                  0  1.37      5-HT(1)   \n",
              "...              ...   ...          ...   \n",
              "9358               0  3.44   EUB0000710   \n",
              "9359               0  4.04   EUB0000540   \n",
              "9360               1  4.38   EUB0000305   \n",
              "9361               0  3.49           18   \n",
              "9362               1  3.80   EUB0000314   \n",
              "\n",
              "                                                 Smiles Standard Type  \\\n",
              "0       Cc1ccc2c(c1)c1c(n2CCc2ccccn2)CCN(C2CCN(C)CC2)C1          IC50   \n",
              "1     COc1cccc2c(CCN(C)C)cn(S(=O)(=O)c3ccc4ccccc4c3)c12            Ki   \n",
              "2        CN1CC=C(c2cn(S(=O)(=O)c3ccccc3Cl)c3ccccc23)CC1            Ki   \n",
              "3         COc1cccc2[nH]cc(CCNCc3ccc(-c4ccc(F)cc4)o3)c12            Ki   \n",
              "4                                NCCc1c[nH]c2ccc(O)cc12            Ki   \n",
              "...                                                 ...           ...   \n",
              "9358  Cc1cnc(-c2cc(Cl)ccc2F)cc1-n1c(=O)n(CC(N)=O)c2c...    Inhibition   \n",
              "9359  O=C(Nc1cccnn1)N1CC(C/C=C/c2cncc(Oc3ccc(C(F)(F)...    Inhibition   \n",
              "9360  C[C@H](c1ccnc(Nc2nc3ccc(-c4cc(N(C)C)ncn4)cc3[n...    Inhibition   \n",
              "9361  O=S(=O)(c1cccc(Cl)c1)n1ccc2c(N3CCNCC3)nc3ccccc...            Ki   \n",
              "9362  CCS(=O)(=O)c1cc2cc(C[C@](O)(CC(C)(C)c3ccc(F)cc...    Inhibition   \n",
              "\n",
              "     Standard Relation  ...                   Target Name Target Organism  \\\n",
              "0                  NaN  ...  Serotonin 6 (5-HT6) receptor    Homo sapiens   \n",
              "1                  '='  ...  Serotonin 6 (5-HT6) receptor    Homo sapiens   \n",
              "2                  '='  ...  Serotonin 6 (5-HT6) receptor    Homo sapiens   \n",
              "3                  '='  ...  Serotonin 6 (5-HT6) receptor    Homo sapiens   \n",
              "4                  '='  ...  Serotonin 6 (5-HT6) receptor    Homo sapiens   \n",
              "...                ...  ...                           ...             ...   \n",
              "9358               NaN  ...  Serotonin 6 (5-HT6) receptor    Homo sapiens   \n",
              "9359               NaN  ...  Serotonin 6 (5-HT6) receptor    Homo sapiens   \n",
              "9360               NaN  ...  Serotonin 6 (5-HT6) receptor    Homo sapiens   \n",
              "9361               '='  ...  Serotonin 6 (5-HT6) receptor    Homo sapiens   \n",
              "9362               NaN  ...  Serotonin 6 (5-HT6) receptor    Homo sapiens   \n",
              "\n",
              "         Target Type Document ChEMBL ID Source ID  \\\n",
              "0     SINGLE PROTEIN      CHEMBL1782051         1   \n",
              "1     SINGLE PROTEIN      CHEMBL1137194         1   \n",
              "2     SINGLE PROTEIN      CHEMBL1141885         1   \n",
              "3     SINGLE PROTEIN      CHEMBL4312034         1   \n",
              "4     SINGLE PROTEIN      CHEMBL1145819         1   \n",
              "...              ...                ...       ...   \n",
              "9358  SINGLE PROTEIN      CHEMBL4507308        54   \n",
              "9359  SINGLE PROTEIN      CHEMBL4507297        54   \n",
              "9360  SINGLE PROTEIN      CHEMBL4507318        54   \n",
              "9361  SINGLE PROTEIN      CHEMBL4842371         1   \n",
              "9362  SINGLE PROTEIN      CHEMBL4507277        54   \n",
              "\n",
              "                           Source Description      Document Journal  \\\n",
              "0                       Scientific Literature  Bioorg Med Chem Lett   \n",
              "1                       Scientific Literature  Bioorg Med Chem Lett   \n",
              "2                       Scientific Literature  Bioorg Med Chem Lett   \n",
              "3                       Scientific Literature        Eur J Med Chem   \n",
              "4                       Scientific Literature            J Med Chem   \n",
              "...                                       ...                   ...   \n",
              "9358  Donated Chemical Probes - SGC Frankfurt                   NaN   \n",
              "9359  Donated Chemical Probes - SGC Frankfurt                   NaN   \n",
              "9360  Donated Chemical Probes - SGC Frankfurt                   NaN   \n",
              "9361                    Scientific Literature            J Med Chem   \n",
              "9362  Donated Chemical Probes - SGC Frankfurt                   NaN   \n",
              "\n",
              "     Document Year Cell ChEMBL ID                           Properties  \n",
              "0           2009.0  CHEMBL3307715                                  NaN  \n",
              "1           2004.0           None                                  NaN  \n",
              "2           2005.0  CHEMBL3308376                                  NaN  \n",
              "3           2020.0  CHEMBL3307715                                  NaN  \n",
              "4           2003.0           None                                  NaN  \n",
              "...            ...            ...                                  ...  \n",
              "9358        2021.0           None  Compound concentration None 10.0 µM  \n",
              "9359        2021.0           None  Compound concentration None 10.0 µM  \n",
              "9360        2021.0           None  Compound concentration None 10.0 µM  \n",
              "9361        2021.0           None                        TIME = 1.0 hr  \n",
              "9362        2021.0           None  Compound concentration None 10.0 µM  \n",
              "\n",
              "[9363 rows x 45 columns]"
            ],
            "text/html": [
              "\n",
              "  <div id=\"df-eee6ea82-3ec1-4aa8-b5ea-79f6c321264f\">\n",
              "    <div class=\"colab-df-container\">\n",
              "      <div>\n",
              "<style scoped>\n",
              "    .dataframe tbody tr th:only-of-type {\n",
              "        vertical-align: middle;\n",
              "    }\n",
              "\n",
              "    .dataframe tbody tr th {\n",
              "        vertical-align: top;\n",
              "    }\n",
              "\n",
              "    .dataframe thead th {\n",
              "        text-align: right;\n",
              "    }\n",
              "</style>\n",
              "<table border=\"1\" class=\"dataframe\">\n",
              "  <thead>\n",
              "    <tr style=\"text-align: right;\">\n",
              "      <th></th>\n",
              "      <th>Molecule ChEMBL ID</th>\n",
              "      <th>Molecule Name</th>\n",
              "      <th>Molecule Max Phase</th>\n",
              "      <th>Molecular Weight</th>\n",
              "      <th>#RO5 Violations</th>\n",
              "      <th>AlogP</th>\n",
              "      <th>Compound Key</th>\n",
              "      <th>Smiles</th>\n",
              "      <th>Standard Type</th>\n",
              "      <th>Standard Relation</th>\n",
              "      <th>...</th>\n",
              "      <th>Target Name</th>\n",
              "      <th>Target Organism</th>\n",
              "      <th>Target Type</th>\n",
              "      <th>Document ChEMBL ID</th>\n",
              "      <th>Source ID</th>\n",
              "      <th>Source Description</th>\n",
              "      <th>Document Journal</th>\n",
              "      <th>Document Year</th>\n",
              "      <th>Cell ChEMBL ID</th>\n",
              "      <th>Properties</th>\n",
              "    </tr>\n",
              "  </thead>\n",
              "  <tbody>\n",
              "    <tr>\n",
              "      <th>0</th>\n",
              "      <td>CHEMBL1783973</td>\n",
              "      <td>NaN</td>\n",
              "      <td>None</td>\n",
              "      <td>388.56</td>\n",
              "      <td>0</td>\n",
              "      <td>4.04</td>\n",
              "      <td>3{22}</td>\n",
              "      <td>Cc1ccc2c(c1)c1c(n2CCc2ccccn2)CCN(C2CCN(C)CC2)C1</td>\n",
              "      <td>IC50</td>\n",
              "      <td>NaN</td>\n",
              "      <td>...</td>\n",
              "      <td>Serotonin 6 (5-HT6) receptor</td>\n",
              "      <td>Homo sapiens</td>\n",
              "      <td>SINGLE PROTEIN</td>\n",
              "      <td>CHEMBL1782051</td>\n",
              "      <td>1</td>\n",
              "      <td>Scientific Literature</td>\n",
              "      <td>Bioorg Med Chem Lett</td>\n",
              "      <td>2009.0</td>\n",
              "      <td>CHEMBL3307715</td>\n",
              "      <td>NaN</td>\n",
              "    </tr>\n",
              "    <tr>\n",
              "      <th>1</th>\n",
              "      <td>CHEMBL72554</td>\n",
              "      <td>NaN</td>\n",
              "      <td>None</td>\n",
              "      <td>408.52</td>\n",
              "      <td>0</td>\n",
              "      <td>4.14</td>\n",
              "      <td>5b</td>\n",
              "      <td>COc1cccc2c(CCN(C)C)cn(S(=O)(=O)c3ccc4ccccc4c3)c12</td>\n",
              "      <td>Ki</td>\n",
              "      <td>'='</td>\n",
              "      <td>...</td>\n",
              "      <td>Serotonin 6 (5-HT6) receptor</td>\n",
              "      <td>Homo sapiens</td>\n",
              "      <td>SINGLE PROTEIN</td>\n",
              "      <td>CHEMBL1137194</td>\n",
              "      <td>1</td>\n",
              "      <td>Scientific Literature</td>\n",
              "      <td>Bioorg Med Chem Lett</td>\n",
              "      <td>2004.0</td>\n",
              "      <td>None</td>\n",
              "      <td>NaN</td>\n",
              "    </tr>\n",
              "    <tr>\n",
              "      <th>2</th>\n",
              "      <td>CHEMBL180221</td>\n",
              "      <td>NaN</td>\n",
              "      <td>None</td>\n",
              "      <td>386.90</td>\n",
              "      <td>0</td>\n",
              "      <td>4.25</td>\n",
              "      <td>12b</td>\n",
              "      <td>CN1CC=C(c2cn(S(=O)(=O)c3ccccc3Cl)c3ccccc23)CC1</td>\n",
              "      <td>Ki</td>\n",
              "      <td>'='</td>\n",
              "      <td>...</td>\n",
              "      <td>Serotonin 6 (5-HT6) receptor</td>\n",
              "      <td>Homo sapiens</td>\n",
              "      <td>SINGLE PROTEIN</td>\n",
              "      <td>CHEMBL1141885</td>\n",
              "      <td>1</td>\n",
              "      <td>Scientific Literature</td>\n",
              "      <td>Bioorg Med Chem Lett</td>\n",
              "      <td>2005.0</td>\n",
              "      <td>CHEMBL3308376</td>\n",
              "      <td>NaN</td>\n",
              "    </tr>\n",
              "    <tr>\n",
              "      <th>3</th>\n",
              "      <td>CHEMBL4438777</td>\n",
              "      <td>NaN</td>\n",
              "      <td>None</td>\n",
              "      <td>364.42</td>\n",
              "      <td>0</td>\n",
              "      <td>4.91</td>\n",
              "      <td>20; PKS-183</td>\n",
              "      <td>COc1cccc2[nH]cc(CCNCc3ccc(-c4ccc(F)cc4)o3)c12</td>\n",
              "      <td>Ki</td>\n",
              "      <td>'='</td>\n",
              "      <td>...</td>\n",
              "      <td>Serotonin 6 (5-HT6) receptor</td>\n",
              "      <td>Homo sapiens</td>\n",
              "      <td>SINGLE PROTEIN</td>\n",
              "      <td>CHEMBL4312034</td>\n",
              "      <td>1</td>\n",
              "      <td>Scientific Literature</td>\n",
              "      <td>Eur J Med Chem</td>\n",
              "      <td>2020.0</td>\n",
              "      <td>CHEMBL3307715</td>\n",
              "      <td>NaN</td>\n",
              "    </tr>\n",
              "    <tr>\n",
              "      <th>4</th>\n",
              "      <td>CHEMBL39</td>\n",
              "      <td>SEROTONIN</td>\n",
              "      <td>3.0</td>\n",
              "      <td>176.22</td>\n",
              "      <td>0</td>\n",
              "      <td>1.37</td>\n",
              "      <td>5-HT(1)</td>\n",
              "      <td>NCCc1c[nH]c2ccc(O)cc12</td>\n",
              "      <td>Ki</td>\n",
              "      <td>'='</td>\n",
              "      <td>...</td>\n",
              "      <td>Serotonin 6 (5-HT6) receptor</td>\n",
              "      <td>Homo sapiens</td>\n",
              "      <td>SINGLE PROTEIN</td>\n",
              "      <td>CHEMBL1145819</td>\n",
              "      <td>1</td>\n",
              "      <td>Scientific Literature</td>\n",
              "      <td>J Med Chem</td>\n",
              "      <td>2003.0</td>\n",
              "      <td>None</td>\n",
              "      <td>NaN</td>\n",
              "    </tr>\n",
              "    <tr>\n",
              "      <th>...</th>\n",
              "      <td>...</td>\n",
              "      <td>...</td>\n",
              "      <td>...</td>\n",
              "      <td>...</td>\n",
              "      <td>...</td>\n",
              "      <td>...</td>\n",
              "      <td>...</td>\n",
              "      <td>...</td>\n",
              "      <td>...</td>\n",
              "      <td>...</td>\n",
              "      <td>...</td>\n",
              "      <td>...</td>\n",
              "      <td>...</td>\n",
              "      <td>...</td>\n",
              "      <td>...</td>\n",
              "      <td>...</td>\n",
              "      <td>...</td>\n",
              "      <td>...</td>\n",
              "      <td>...</td>\n",
              "      <td>...</td>\n",
              "      <td>...</td>\n",
              "    </tr>\n",
              "    <tr>\n",
              "      <th>9358</th>\n",
              "      <td>CHEMBL4543737</td>\n",
              "      <td>Al11</td>\n",
              "      <td>None</td>\n",
              "      <td>410.84</td>\n",
              "      <td>0</td>\n",
              "      <td>3.44</td>\n",
              "      <td>EUB0000710</td>\n",
              "      <td>Cc1cnc(-c2cc(Cl)ccc2F)cc1-n1c(=O)n(CC(N)=O)c2c...</td>\n",
              "      <td>Inhibition</td>\n",
              "      <td>NaN</td>\n",
              "      <td>...</td>\n",
              "      <td>Serotonin 6 (5-HT6) receptor</td>\n",
              "      <td>Homo sapiens</td>\n",
              "      <td>SINGLE PROTEIN</td>\n",
              "      <td>CHEMBL4507308</td>\n",
              "      <td>54</td>\n",
              "      <td>Donated Chemical Probes - SGC Frankfurt</td>\n",
              "      <td>NaN</td>\n",
              "      <td>2021.0</td>\n",
              "      <td>None</td>\n",
              "      <td>Compound concentration None 10.0 µM</td>\n",
              "    </tr>\n",
              "    <tr>\n",
              "      <th>9359</th>\n",
              "      <td>CHEMBL4780458</td>\n",
              "      <td>NaN</td>\n",
              "      <td>None</td>\n",
              "      <td>457.42</td>\n",
              "      <td>0</td>\n",
              "      <td>4.04</td>\n",
              "      <td>EUB0000540</td>\n",
              "      <td>O=C(Nc1cccnn1)N1CC(C/C=C/c2cncc(Oc3ccc(C(F)(F)...</td>\n",
              "      <td>Inhibition</td>\n",
              "      <td>NaN</td>\n",
              "      <td>...</td>\n",
              "      <td>Serotonin 6 (5-HT6) receptor</td>\n",
              "      <td>Homo sapiens</td>\n",
              "      <td>SINGLE PROTEIN</td>\n",
              "      <td>CHEMBL4507297</td>\n",
              "      <td>54</td>\n",
              "      <td>Donated Chemical Probes - SGC Frankfurt</td>\n",
              "      <td>NaN</td>\n",
              "      <td>2021.0</td>\n",
              "      <td>None</td>\n",
              "      <td>Compound concentration None 10.0 µM</td>\n",
              "    </tr>\n",
              "    <tr>\n",
              "      <th>9360</th>\n",
              "      <td>CHEMBL4537673</td>\n",
              "      <td>BAY-985</td>\n",
              "      <td>None</td>\n",
              "      <td>553.59</td>\n",
              "      <td>1</td>\n",
              "      <td>4.38</td>\n",
              "      <td>EUB0000305</td>\n",
              "      <td>C[C@H](c1ccnc(Nc2nc3ccc(-c4cc(N(C)C)ncn4)cc3[n...</td>\n",
              "      <td>Inhibition</td>\n",
              "      <td>NaN</td>\n",
              "      <td>...</td>\n",
              "      <td>Serotonin 6 (5-HT6) receptor</td>\n",
              "      <td>Homo sapiens</td>\n",
              "      <td>SINGLE PROTEIN</td>\n",
              "      <td>CHEMBL4507318</td>\n",
              "      <td>54</td>\n",
              "      <td>Donated Chemical Probes - SGC Frankfurt</td>\n",
              "      <td>NaN</td>\n",
              "      <td>2021.0</td>\n",
              "      <td>None</td>\n",
              "      <td>Compound concentration None 10.0 µM</td>\n",
              "    </tr>\n",
              "    <tr>\n",
              "      <th>9361</th>\n",
              "      <td>CHEMBL4846153</td>\n",
              "      <td>NaN</td>\n",
              "      <td>None</td>\n",
              "      <td>426.93</td>\n",
              "      <td>0</td>\n",
              "      <td>3.49</td>\n",
              "      <td>18</td>\n",
              "      <td>O=S(=O)(c1cccc(Cl)c1)n1ccc2c(N3CCNCC3)nc3ccccc...</td>\n",
              "      <td>Ki</td>\n",
              "      <td>'='</td>\n",
              "      <td>...</td>\n",
              "      <td>Serotonin 6 (5-HT6) receptor</td>\n",
              "      <td>Homo sapiens</td>\n",
              "      <td>SINGLE PROTEIN</td>\n",
              "      <td>CHEMBL4842371</td>\n",
              "      <td>1</td>\n",
              "      <td>Scientific Literature</td>\n",
              "      <td>J Med Chem</td>\n",
              "      <td>2021.0</td>\n",
              "      <td>None</td>\n",
              "      <td>TIME = 1.0 hr</td>\n",
              "    </tr>\n",
              "    <tr>\n",
              "      <th>9362</th>\n",
              "      <td>CHEMBL3358954</td>\n",
              "      <td>BI 653048</td>\n",
              "      <td>1.0</td>\n",
              "      <td>515.53</td>\n",
              "      <td>1</td>\n",
              "      <td>3.80</td>\n",
              "      <td>EUB0000314</td>\n",
              "      <td>CCS(=O)(=O)c1cc2cc(C[C@](O)(CC(C)(C)c3ccc(F)cc...</td>\n",
              "      <td>Inhibition</td>\n",
              "      <td>NaN</td>\n",
              "      <td>...</td>\n",
              "      <td>Serotonin 6 (5-HT6) receptor</td>\n",
              "      <td>Homo sapiens</td>\n",
              "      <td>SINGLE PROTEIN</td>\n",
              "      <td>CHEMBL4507277</td>\n",
              "      <td>54</td>\n",
              "      <td>Donated Chemical Probes - SGC Frankfurt</td>\n",
              "      <td>NaN</td>\n",
              "      <td>2021.0</td>\n",
              "      <td>None</td>\n",
              "      <td>Compound concentration None 10.0 µM</td>\n",
              "    </tr>\n",
              "  </tbody>\n",
              "</table>\n",
              "<p>9363 rows × 45 columns</p>\n",
              "</div>\n",
              "      <button class=\"colab-df-convert\" onclick=\"convertToInteractive('df-eee6ea82-3ec1-4aa8-b5ea-79f6c321264f')\"\n",
              "              title=\"Convert this dataframe to an interactive table.\"\n",
              "              style=\"display:none;\">\n",
              "        \n",
              "  <svg xmlns=\"http://www.w3.org/2000/svg\" height=\"24px\"viewBox=\"0 0 24 24\"\n",
              "       width=\"24px\">\n",
              "    <path d=\"M0 0h24v24H0V0z\" fill=\"none\"/>\n",
              "    <path d=\"M18.56 5.44l.94 2.06.94-2.06 2.06-.94-2.06-.94-.94-2.06-.94 2.06-2.06.94zm-11 1L8.5 8.5l.94-2.06 2.06-.94-2.06-.94L8.5 2.5l-.94 2.06-2.06.94zm10 10l.94 2.06.94-2.06 2.06-.94-2.06-.94-.94-2.06-.94 2.06-2.06.94z\"/><path d=\"M17.41 7.96l-1.37-1.37c-.4-.4-.92-.59-1.43-.59-.52 0-1.04.2-1.43.59L10.3 9.45l-7.72 7.72c-.78.78-.78 2.05 0 2.83L4 21.41c.39.39.9.59 1.41.59.51 0 1.02-.2 1.41-.59l7.78-7.78 2.81-2.81c.8-.78.8-2.07 0-2.86zM5.41 20L4 18.59l7.72-7.72 1.47 1.35L5.41 20z\"/>\n",
              "  </svg>\n",
              "      </button>\n",
              "      \n",
              "  <style>\n",
              "    .colab-df-container {\n",
              "      display:flex;\n",
              "      flex-wrap:wrap;\n",
              "      gap: 12px;\n",
              "    }\n",
              "\n",
              "    .colab-df-convert {\n",
              "      background-color: #E8F0FE;\n",
              "      border: none;\n",
              "      border-radius: 50%;\n",
              "      cursor: pointer;\n",
              "      display: none;\n",
              "      fill: #1967D2;\n",
              "      height: 32px;\n",
              "      padding: 0 0 0 0;\n",
              "      width: 32px;\n",
              "    }\n",
              "\n",
              "    .colab-df-convert:hover {\n",
              "      background-color: #E2EBFA;\n",
              "      box-shadow: 0px 1px 2px rgba(60, 64, 67, 0.3), 0px 1px 3px 1px rgba(60, 64, 67, 0.15);\n",
              "      fill: #174EA6;\n",
              "    }\n",
              "\n",
              "    [theme=dark] .colab-df-convert {\n",
              "      background-color: #3B4455;\n",
              "      fill: #D2E3FC;\n",
              "    }\n",
              "\n",
              "    [theme=dark] .colab-df-convert:hover {\n",
              "      background-color: #434B5C;\n",
              "      box-shadow: 0px 1px 3px 1px rgba(0, 0, 0, 0.15);\n",
              "      filter: drop-shadow(0px 1px 2px rgba(0, 0, 0, 0.3));\n",
              "      fill: #FFFFFF;\n",
              "    }\n",
              "  </style>\n",
              "\n",
              "      <script>\n",
              "        const buttonEl =\n",
              "          document.querySelector('#df-eee6ea82-3ec1-4aa8-b5ea-79f6c321264f button.colab-df-convert');\n",
              "        buttonEl.style.display =\n",
              "          google.colab.kernel.accessAllowed ? 'block' : 'none';\n",
              "\n",
              "        async function convertToInteractive(key) {\n",
              "          const element = document.querySelector('#df-eee6ea82-3ec1-4aa8-b5ea-79f6c321264f');\n",
              "          const dataTable =\n",
              "            await google.colab.kernel.invokeFunction('convertToInteractive',\n",
              "                                                     [key], {});\n",
              "          if (!dataTable) return;\n",
              "\n",
              "          const docLinkHtml = 'Like what you see? Visit the ' +\n",
              "            '<a target=\"_blank\" href=https://colab.research.google.com/notebooks/data_table.ipynb>data table notebook</a>'\n",
              "            + ' to learn more about interactive tables.';\n",
              "          element.innerHTML = '';\n",
              "          dataTable['output_type'] = 'display_data';\n",
              "          await google.colab.output.renderOutput(dataTable, element);\n",
              "          const docLink = document.createElement('div');\n",
              "          docLink.innerHTML = docLinkHtml;\n",
              "          element.appendChild(docLink);\n",
              "        }\n",
              "      </script>\n",
              "    </div>\n",
              "  </div>\n",
              "  "
            ]
          },
          "metadata": {},
          "execution_count": 66
        }
      ]
    },
    {
      "cell_type": "code",
      "source": [
        "#List all columns \n",
        "df.columns"
      ],
      "metadata": {
        "id": "HNMFSdhxxxki",
        "colab": {
          "base_uri": "https://localhost:8080/"
        },
        "outputId": "7f8490c7-a556-44d1-e4dd-566dabc03521"
      },
      "execution_count": 67,
      "outputs": [
        {
          "output_type": "execute_result",
          "data": {
            "text/plain": [
              "Index(['Molecule ChEMBL ID', 'Molecule Name', 'Molecule Max Phase',\n",
              "       'Molecular Weight', '#RO5 Violations', 'AlogP', 'Compound Key',\n",
              "       'Smiles', 'Standard Type', 'Standard Relation', 'Standard Value',\n",
              "       'Standard Units', 'pChEMBL Value', 'Data Validity Comment', 'Comment',\n",
              "       'Uo Units', 'Ligand Efficiency BEI', 'Ligand Efficiency LE',\n",
              "       'Ligand Efficiency LLE', 'Ligand Efficiency SEI', 'Potential Duplicate',\n",
              "       'Assay ChEMBL ID', 'Assay Description', 'Assay Type', 'BAO Format ID',\n",
              "       'BAO Label', 'Assay Organism', 'Assay Tissue ChEMBL ID',\n",
              "       'Assay Tissue Name', 'Assay Cell Type', 'Assay Subcellular Fraction',\n",
              "       'Assay Parameters', 'Assay Variant Accession', 'Assay Variant Mutation',\n",
              "       'Target ChEMBL ID', 'Target Name', 'Target Organism', 'Target Type',\n",
              "       'Document ChEMBL ID', 'Source ID', 'Source Description',\n",
              "       'Document Journal', 'Document Year', 'Cell ChEMBL ID', 'Properties'],\n",
              "      dtype='object')"
            ]
          },
          "metadata": {},
          "execution_count": 67
        }
      ]
    },
    {
      "cell_type": "code",
      "source": [
        "#How to list specific columns\n",
        "df.loc[:,['Molecular Weight', 'Standard Type', 'Standard Value','Standard Units','AlogP']]"
      ],
      "metadata": {
        "colab": {
          "base_uri": "https://localhost:8080/",
          "height": 419
        },
        "id": "yzwNeXTrVdkY",
        "outputId": "39d47eae-88ef-4cfe-9b69-cf5f4141d419"
      },
      "execution_count": 68,
      "outputs": [
        {
          "output_type": "execute_result",
          "data": {
            "text/plain": [
              "     Molecular Weight Standard Type  Standard Value Standard Units AlogP\n",
              "0              388.56          IC50             NaN            NaN  4.04\n",
              "1              408.52            Ki            5.00             nM  4.14\n",
              "2              386.90            Ki           10.00             nM  4.25\n",
              "3              364.42            Ki          132.00             nM  4.91\n",
              "4              176.22            Ki           65.00             nM  1.37\n",
              "...               ...           ...             ...            ...   ...\n",
              "9358           410.84    Inhibition           14.14              %  3.44\n",
              "9359           457.42    Inhibition            7.76              %  4.04\n",
              "9360           553.59    Inhibition           -4.38              %  4.38\n",
              "9361           426.93            Ki            3.00             nM  3.49\n",
              "9362           515.53    Inhibition           -3.78              %  3.80\n",
              "\n",
              "[9363 rows x 5 columns]"
            ],
            "text/html": [
              "\n",
              "  <div id=\"df-9720a21d-be48-4989-9389-8a2e0018bec8\">\n",
              "    <div class=\"colab-df-container\">\n",
              "      <div>\n",
              "<style scoped>\n",
              "    .dataframe tbody tr th:only-of-type {\n",
              "        vertical-align: middle;\n",
              "    }\n",
              "\n",
              "    .dataframe tbody tr th {\n",
              "        vertical-align: top;\n",
              "    }\n",
              "\n",
              "    .dataframe thead th {\n",
              "        text-align: right;\n",
              "    }\n",
              "</style>\n",
              "<table border=\"1\" class=\"dataframe\">\n",
              "  <thead>\n",
              "    <tr style=\"text-align: right;\">\n",
              "      <th></th>\n",
              "      <th>Molecular Weight</th>\n",
              "      <th>Standard Type</th>\n",
              "      <th>Standard Value</th>\n",
              "      <th>Standard Units</th>\n",
              "      <th>AlogP</th>\n",
              "    </tr>\n",
              "  </thead>\n",
              "  <tbody>\n",
              "    <tr>\n",
              "      <th>0</th>\n",
              "      <td>388.56</td>\n",
              "      <td>IC50</td>\n",
              "      <td>NaN</td>\n",
              "      <td>NaN</td>\n",
              "      <td>4.04</td>\n",
              "    </tr>\n",
              "    <tr>\n",
              "      <th>1</th>\n",
              "      <td>408.52</td>\n",
              "      <td>Ki</td>\n",
              "      <td>5.00</td>\n",
              "      <td>nM</td>\n",
              "      <td>4.14</td>\n",
              "    </tr>\n",
              "    <tr>\n",
              "      <th>2</th>\n",
              "      <td>386.90</td>\n",
              "      <td>Ki</td>\n",
              "      <td>10.00</td>\n",
              "      <td>nM</td>\n",
              "      <td>4.25</td>\n",
              "    </tr>\n",
              "    <tr>\n",
              "      <th>3</th>\n",
              "      <td>364.42</td>\n",
              "      <td>Ki</td>\n",
              "      <td>132.00</td>\n",
              "      <td>nM</td>\n",
              "      <td>4.91</td>\n",
              "    </tr>\n",
              "    <tr>\n",
              "      <th>4</th>\n",
              "      <td>176.22</td>\n",
              "      <td>Ki</td>\n",
              "      <td>65.00</td>\n",
              "      <td>nM</td>\n",
              "      <td>1.37</td>\n",
              "    </tr>\n",
              "    <tr>\n",
              "      <th>...</th>\n",
              "      <td>...</td>\n",
              "      <td>...</td>\n",
              "      <td>...</td>\n",
              "      <td>...</td>\n",
              "      <td>...</td>\n",
              "    </tr>\n",
              "    <tr>\n",
              "      <th>9358</th>\n",
              "      <td>410.84</td>\n",
              "      <td>Inhibition</td>\n",
              "      <td>14.14</td>\n",
              "      <td>%</td>\n",
              "      <td>3.44</td>\n",
              "    </tr>\n",
              "    <tr>\n",
              "      <th>9359</th>\n",
              "      <td>457.42</td>\n",
              "      <td>Inhibition</td>\n",
              "      <td>7.76</td>\n",
              "      <td>%</td>\n",
              "      <td>4.04</td>\n",
              "    </tr>\n",
              "    <tr>\n",
              "      <th>9360</th>\n",
              "      <td>553.59</td>\n",
              "      <td>Inhibition</td>\n",
              "      <td>-4.38</td>\n",
              "      <td>%</td>\n",
              "      <td>4.38</td>\n",
              "    </tr>\n",
              "    <tr>\n",
              "      <th>9361</th>\n",
              "      <td>426.93</td>\n",
              "      <td>Ki</td>\n",
              "      <td>3.00</td>\n",
              "      <td>nM</td>\n",
              "      <td>3.49</td>\n",
              "    </tr>\n",
              "    <tr>\n",
              "      <th>9362</th>\n",
              "      <td>515.53</td>\n",
              "      <td>Inhibition</td>\n",
              "      <td>-3.78</td>\n",
              "      <td>%</td>\n",
              "      <td>3.80</td>\n",
              "    </tr>\n",
              "  </tbody>\n",
              "</table>\n",
              "<p>9363 rows × 5 columns</p>\n",
              "</div>\n",
              "      <button class=\"colab-df-convert\" onclick=\"convertToInteractive('df-9720a21d-be48-4989-9389-8a2e0018bec8')\"\n",
              "              title=\"Convert this dataframe to an interactive table.\"\n",
              "              style=\"display:none;\">\n",
              "        \n",
              "  <svg xmlns=\"http://www.w3.org/2000/svg\" height=\"24px\"viewBox=\"0 0 24 24\"\n",
              "       width=\"24px\">\n",
              "    <path d=\"M0 0h24v24H0V0z\" fill=\"none\"/>\n",
              "    <path d=\"M18.56 5.44l.94 2.06.94-2.06 2.06-.94-2.06-.94-.94-2.06-.94 2.06-2.06.94zm-11 1L8.5 8.5l.94-2.06 2.06-.94-2.06-.94L8.5 2.5l-.94 2.06-2.06.94zm10 10l.94 2.06.94-2.06 2.06-.94-2.06-.94-.94-2.06-.94 2.06-2.06.94z\"/><path d=\"M17.41 7.96l-1.37-1.37c-.4-.4-.92-.59-1.43-.59-.52 0-1.04.2-1.43.59L10.3 9.45l-7.72 7.72c-.78.78-.78 2.05 0 2.83L4 21.41c.39.39.9.59 1.41.59.51 0 1.02-.2 1.41-.59l7.78-7.78 2.81-2.81c.8-.78.8-2.07 0-2.86zM5.41 20L4 18.59l7.72-7.72 1.47 1.35L5.41 20z\"/>\n",
              "  </svg>\n",
              "      </button>\n",
              "      \n",
              "  <style>\n",
              "    .colab-df-container {\n",
              "      display:flex;\n",
              "      flex-wrap:wrap;\n",
              "      gap: 12px;\n",
              "    }\n",
              "\n",
              "    .colab-df-convert {\n",
              "      background-color: #E8F0FE;\n",
              "      border: none;\n",
              "      border-radius: 50%;\n",
              "      cursor: pointer;\n",
              "      display: none;\n",
              "      fill: #1967D2;\n",
              "      height: 32px;\n",
              "      padding: 0 0 0 0;\n",
              "      width: 32px;\n",
              "    }\n",
              "\n",
              "    .colab-df-convert:hover {\n",
              "      background-color: #E2EBFA;\n",
              "      box-shadow: 0px 1px 2px rgba(60, 64, 67, 0.3), 0px 1px 3px 1px rgba(60, 64, 67, 0.15);\n",
              "      fill: #174EA6;\n",
              "    }\n",
              "\n",
              "    [theme=dark] .colab-df-convert {\n",
              "      background-color: #3B4455;\n",
              "      fill: #D2E3FC;\n",
              "    }\n",
              "\n",
              "    [theme=dark] .colab-df-convert:hover {\n",
              "      background-color: #434B5C;\n",
              "      box-shadow: 0px 1px 3px 1px rgba(0, 0, 0, 0.15);\n",
              "      filter: drop-shadow(0px 1px 2px rgba(0, 0, 0, 0.3));\n",
              "      fill: #FFFFFF;\n",
              "    }\n",
              "  </style>\n",
              "\n",
              "      <script>\n",
              "        const buttonEl =\n",
              "          document.querySelector('#df-9720a21d-be48-4989-9389-8a2e0018bec8 button.colab-df-convert');\n",
              "        buttonEl.style.display =\n",
              "          google.colab.kernel.accessAllowed ? 'block' : 'none';\n",
              "\n",
              "        async function convertToInteractive(key) {\n",
              "          const element = document.querySelector('#df-9720a21d-be48-4989-9389-8a2e0018bec8');\n",
              "          const dataTable =\n",
              "            await google.colab.kernel.invokeFunction('convertToInteractive',\n",
              "                                                     [key], {});\n",
              "          if (!dataTable) return;\n",
              "\n",
              "          const docLinkHtml = 'Like what you see? Visit the ' +\n",
              "            '<a target=\"_blank\" href=https://colab.research.google.com/notebooks/data_table.ipynb>data table notebook</a>'\n",
              "            + ' to learn more about interactive tables.';\n",
              "          element.innerHTML = '';\n",
              "          dataTable['output_type'] = 'display_data';\n",
              "          await google.colab.output.renderOutput(dataTable, element);\n",
              "          const docLink = document.createElement('div');\n",
              "          docLink.innerHTML = docLinkHtml;\n",
              "          element.appendChild(docLink);\n",
              "        }\n",
              "      </script>\n",
              "    </div>\n",
              "  </div>\n",
              "  "
            ]
          },
          "metadata": {},
          "execution_count": 68
        }
      ]
    },
    {
      "cell_type": "markdown",
      "source": [
        "###### Some simple analysis to check with the filters\n",
        "1. Only compounds with reported direct interactions. This corresponds to 'Assay Type' = 'B' \n",
        "\n",
        "For example, this dataset includes assay type:\n",
        "* 'F' - Biological effect of a compound\n",
        "* 'B' - Binding of compounds to a molecular target, e.g. Ki, IC50, Kd\n",
        "* 'A' - ADME data, e.g. t1/2, oral bioavailability\n",
        "\n",
        "(For further information: https://chembl.gitbook.io/chembl-interface-documentation/frequently-asked-questions/chembl-data-questions) "
      ],
      "metadata": {
        "id": "Tds107aPxhcp"
      }
    },
    {
      "cell_type": "code",
      "source": [
        "#https://www.askpython.com/python/built-in-methods/unique-values-from-a-dataframe below"
      ],
      "metadata": {
        "id": "OeYtoebtRDJO"
      },
      "execution_count": 69,
      "outputs": []
    },
    {
      "cell_type": "code",
      "source": [
        "#Used when data has more than a single dimension\n",
        "#Finds unique values from a particular column\n",
        "           #print(pd.DataFrame.columns-'AlogP'.unique())"
      ],
      "metadata": {
        "id": "HVe-peRkLjsy"
      },
      "execution_count": 70,
      "outputs": []
    },
    {
      "cell_type": "code",
      "source": [
        "#Used when data is of 1-Dimensional\n",
        "#print(pd.DataFrame.unique())"
      ],
      "metadata": {
        "id": "R--rV9dJLO6A"
      },
      "execution_count": 71,
      "outputs": []
    },
    {
      "cell_type": "code",
      "source": [
        "#Similar to what I was attempting above\n",
        "print(df['Assay Type'].unique())"
      ],
      "metadata": {
        "id": "3f5dj2GzukfL",
        "colab": {
          "base_uri": "https://localhost:8080/"
        },
        "outputId": "dc604f4b-3068-494d-c131-7602cba17b87"
      },
      "execution_count": 72,
      "outputs": [
        {
          "output_type": "stream",
          "name": "stdout",
          "text": [
            "['F' 'B' 'A']\n"
          ]
        }
      ]
    },
    {
      "cell_type": "markdown",
      "source": [
        "2. Exact activity measures. This corresponds to 'Standard Relation' = \"'='\""
      ],
      "metadata": {
        "id": "PmSLZA9Dy6Dh"
      }
    },
    {
      "cell_type": "code",
      "source": [
        "print(df['Standard Relation'].unique())"
      ],
      "metadata": {
        "id": "6BUGtwR0yxir",
        "colab": {
          "base_uri": "https://localhost:8080/"
        },
        "outputId": "961b481a-ebdb-43d4-a3ce-a3abb896ff20"
      },
      "execution_count": 73,
      "outputs": [
        {
          "output_type": "stream",
          "name": "stdout",
          "text": [
            "[nan \"'='\" \"'<'\" \"'>'\" \"'~'\" \"'<='\"]\n"
          ]
        }
      ]
    },
    {
      "cell_type": "markdown",
      "source": [
        "3. Only standard potency measurements were considered. \n",
        "\n",
        "This is a bit complicated. However, we can utilize the correlation between different standard type (activity type) vs. pChEMBL Value. \n",
        "\n",
        "All numerical measurements reported in various units were standardized to 'Standard Value\" in nM. This is converted to a negative logarithmic scale.\n",
        "\n",
        "IC50 = 1 nm is equivalent to pChEMBL Value of 9. \n",
        "Higher the potency (lower IC50), smaller the pChEMBL value. (Think in terms of aciditiy vs pH) \n",
        "\n",
        "Which means, only standard potency measurements would have numerical pChEMBL Values reported. \n",
        "\n",
        "I did a groupby analysis to identify and extract 'Standard Type' with numerical 'pChEMBL Values'."
      ],
      "metadata": {
        "id": "YwgaJ6q83CHm"
      }
    },
    {
      "cell_type": "code",
      "source": [
        "print(df['Standard Type'].unique())"
      ],
      "metadata": {
        "id": "7ocanE9dzMXH",
        "colab": {
          "base_uri": "https://localhost:8080/"
        },
        "outputId": "f352e123-73b3-4d58-8c87-7181dda68b56"
      },
      "execution_count": 74,
      "outputs": [
        {
          "output_type": "stream",
          "name": "stdout",
          "text": [
            "['IC50' 'Ki' 'Activity' 'Imax' 'EC50' 'Inhibition' 'Emax' 'Kbapp' 'Kd'\n",
            " 'Kb' 'Efficacy' '%max' 'Log Ki' 'IA' 'Delta pKi' 'pKb' 'INH' '% Ctrl'\n",
            " 'pA2' 'Displacement' 'pKi'\n",
            " '% Inhibition of Control Agonist Response (Mean n=2)'\n",
            " 'Activation (% of control)' 'effect'\n",
            " '% of Control Agonist Response (Mean n=2)' 'Affinity'\n",
            " 'Mean fold stimulation'\n",
            " '% Inhibition of Control Specific Binding (Mean n=2)'\n",
            " 'Inhibition (% of control)']\n"
          ]
        }
      ]
    },
    {
      "cell_type": "code",
      "source": [
        "# group the dataframe by type and inspect the pchembl_value column\n",
        "grouped = df.groupby('Standard Type')['pChEMBL Value']\n",
        "\n",
        "activities = []\n",
        "#Functions\n",
        "# check if any group has only numerical values or only None values\n",
        "for group_name, group_values in grouped:\n",
        "    group_values = group_values.dropna()\n",
        "    if len(group_values) == 0:\n",
        "        print(f\"All values in group {group_name} are None.\")\n",
        "    elif all(isinstance(val, float) for val in group_values):\n",
        "        print(f\"All values in group {group_name} are numerical.\")\n",
        "        activities.append(group_name)\n",
        "    else:\n",
        "        print(f\"Group {group_name} has mixed data types.\")\n",
        "        \n",
        "print(\"Standard potency measurement types to keep are:\", activities)"
      ],
      "metadata": {
        "id": "v_sW-Z184fZP",
        "colab": {
          "base_uri": "https://localhost:8080/"
        },
        "outputId": "b2017d04-28b3-48fa-e22b-24efb4331253"
      },
      "execution_count": 75,
      "outputs": [
        {
          "output_type": "stream",
          "name": "stdout",
          "text": [
            "All values in group % Ctrl are None.\n",
            "All values in group % Inhibition of Control Agonist Response (Mean n=2) are None.\n",
            "All values in group % Inhibition of Control Specific Binding (Mean n=2) are None.\n",
            "All values in group % of Control Agonist Response (Mean n=2) are None.\n",
            "All values in group %max are None.\n",
            "All values in group Activation (% of control) are None.\n",
            "All values in group Activity are None.\n",
            "All values in group Affinity are None.\n",
            "All values in group Delta pKi are None.\n",
            "All values in group Displacement are None.\n",
            "All values in group EC50 are numerical.\n",
            "All values in group Efficacy are None.\n",
            "All values in group Emax are None.\n",
            "All values in group IA are None.\n",
            "All values in group IC50 are numerical.\n",
            "All values in group INH are None.\n",
            "All values in group Imax are None.\n",
            "All values in group Inhibition are None.\n",
            "All values in group Inhibition (% of control) are None.\n",
            "All values in group Kb are None.\n",
            "All values in group Kbapp are None.\n",
            "All values in group Kd are numerical.\n",
            "All values in group Ki are numerical.\n",
            "All values in group Log Ki are None.\n",
            "All values in group Mean fold stimulation are None.\n",
            "All values in group effect are None.\n",
            "All values in group pA2 are None.\n",
            "All values in group pKb are None.\n",
            "All values in group pKi are None.\n",
            "Standard potency measurement types to keep are: ['EC50', 'IC50', 'Kd', 'Ki']\n"
          ]
        }
      ]
    },
    {
      "cell_type": "markdown",
      "source": [
        "4. All compounds annotated as ('inactive', 'not active', 'inconclusive', 'potential transcription error', or 'pan assay interference compounds (PAINS)') were discarded. \n",
        "\n",
        "I also did some investigation of how to best implement this filter, as explained below:"
      ],
      "metadata": {
        "id": "kiOIfv7A4sHs"
      }
    },
    {
      "cell_type": "code",
      "source": [
        "# The 'Comment' column contains a mixture of Non, string, and numerical values:\n",
        "df.Comment[0:20]"
      ],
      "metadata": {
        "id": "RbFvDtbc4myV",
        "colab": {
          "base_uri": "https://localhost:8080/"
        },
        "outputId": "1c730052-d237-4e6c-8f4e-c0c2ea545fe0"
      },
      "execution_count": 76,
      "outputs": [
        {
          "output_type": "execute_result",
          "data": {
            "text/plain": [
              "0          Not Active\n",
              "1                 NaN\n",
              "2                 NaN\n",
              "3                 NaN\n",
              "4                 NaN\n",
              "5              309762\n",
              "6              309798\n",
              "7                 NaN\n",
              "8                 NaN\n",
              "9                 NaN\n",
              "10             221395\n",
              "11                NaN\n",
              "12             222882\n",
              "13             222783\n",
              "14                NaN\n",
              "15                NaN\n",
              "16    Partial agonist\n",
              "17                NaN\n",
              "18                NaN\n",
              "19                NaN\n",
              "Name: Comment, dtype: object"
            ]
          },
          "metadata": {},
          "execution_count": 76
        }
      ]
    },
    {
      "cell_type": "code",
      "source": [
        "# I used regular expressions to replace all numerical values by NaN\n",
        "               #https://www.bogotobogo.com/python/python_regularExpressions.php\n",
        "#'r' is 'raw string' & tells Python that nothing in this string should be escaped\n",
        "\n",
        "#Does \"'^\\d+$'\" mean any character except those with one or more numeric digits?\n",
        "#$ matches the end of a string.\n",
        "#regex: special sequence that uses search patterns to find a (set of) string/ presence or absence of a text.\n",
        "\n",
        "df['Comment'] = df['Comment'].replace(to_replace=r'^\\d+$', value=np.nan, regex=True)\n",
        "print(df.Comment[0:20])\n",
        "print(df['Comment'].unique())"
      ],
      "metadata": {
        "id": "uJ9-55bF5WVc",
        "colab": {
          "base_uri": "https://localhost:8080/"
        },
        "outputId": "def50894-e26f-442b-d41e-430c3dc70a63"
      },
      "execution_count": 77,
      "outputs": [
        {
          "output_type": "stream",
          "name": "stdout",
          "text": [
            "0          Not Active\n",
            "1                 NaN\n",
            "2                 NaN\n",
            "3                 NaN\n",
            "4                 NaN\n",
            "5                 NaN\n",
            "6                 NaN\n",
            "7                 NaN\n",
            "8                 NaN\n",
            "9                 NaN\n",
            "10                NaN\n",
            "11                NaN\n",
            "12                NaN\n",
            "13                NaN\n",
            "14                NaN\n",
            "15                NaN\n",
            "16    Partial agonist\n",
            "17                NaN\n",
            "18                NaN\n",
            "19                NaN\n",
            "Name: Comment, dtype: object\n",
            "['Not Active' nan 'Partial agonist' 'Not Determined'\n",
            " 'Not Active (inhibition < 50% @ 10 uM and thus dose-reponse curve not measured)'\n",
            " 'Active' 'Agonist' 'Dose-dependent effect' 'Antagonist' 'Slightly Active'\n",
            " 'Dose-Dependent Effect']\n"
          ]
        }
      ]
    },
    {
      "cell_type": "code",
      "source": [
        "# I noticed that it appeared that any compound with numerical pChEMBL Value does not have Comment, or in another word, have only NaN. \n",
        "# The following groupby analysis is to confirm whether this observation is true:\n",
        "\n",
        "grouped = df.groupby('Comment')['pChEMBL Value']\n",
        "\n",
        "# check if any group has only numerical values or only None values\n",
        "for group_name, group_values in grouped:\n",
        "    group_values = group_values.dropna()\n",
        "    if len(group_values) == 0:\n",
        "        print(f\"All values in group {group_name} are None.\")\n",
        "    elif all(isinstance(val, float) for val in group_values):\n",
        "        print(f\"All values in group {group_name} are numerical.\")\n",
        "        \n",
        "    else:\n",
        "        print(f\"Group {group_name} has mixed data types.\")"
      ],
      "metadata": {
        "id": "bgoUO5a55j96",
        "colab": {
          "base_uri": "https://localhost:8080/"
        },
        "outputId": "b7475af9-5749-49ad-908d-7c1c6dae91b6"
      },
      "execution_count": 78,
      "outputs": [
        {
          "output_type": "stream",
          "name": "stdout",
          "text": [
            "All values in group Active are None.\n",
            "All values in group Agonist are None.\n",
            "All values in group Antagonist are None.\n",
            "All values in group Dose-Dependent Effect are None.\n",
            "All values in group Dose-dependent effect are None.\n",
            "All values in group Not Active are None.\n",
            "All values in group Not Active (inhibition < 50% @ 10 uM and thus dose-reponse curve not measured) are None.\n",
            "All values in group Not Determined are None.\n",
            "All values in group Partial agonist are None.\n",
            "All values in group Slightly Active are None.\n"
          ]
        }
      ]
    },
    {
      "cell_type": "markdown",
      "source": [
        "We can conclude that keep only rows with 'Comment' = NaN, we can drop any compounds with undesirable annotations. "
      ],
      "metadata": {
        "id": "h4nAft-G6TLX"
      }
    },
    {
      "cell_type": "code",
      "source": [],
      "metadata": {
        "id": "xiUtQXx76Oy8"
      },
      "execution_count": 78,
      "outputs": []
    }
  ]
}