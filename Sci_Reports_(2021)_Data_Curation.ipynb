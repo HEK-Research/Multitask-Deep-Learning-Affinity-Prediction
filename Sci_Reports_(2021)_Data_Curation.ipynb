{
  "nbformat": 4,
  "nbformat_minor": 0,
  "metadata": {
    "colab": {
      "provenance": [],
      "authorship_tag": "ABX9TyModdtvoCjmyjTqTvu0k2k/",
      "include_colab_link": true
    },
    "kernelspec": {
      "name": "python3",
      "display_name": "Python 3"
    },
    "language_info": {
      "name": "python"
    }
  },
  "cells": [
    {
      "cell_type": "markdown",
      "metadata": {
        "id": "view-in-github",
        "colab_type": "text"
      },
      "source": [
        "<a href=\"https://colab.research.google.com/github/HEK-Research/Multitask-Deep-Learning-Affinity-Prediction/blob/main/Sci_Reports_(2021)_Data_Curation.ipynb\" target=\"_parent\"><img src=\"https://colab.research.google.com/assets/colab-badge.svg\" alt=\"Open In Colab\"/></a>"
      ]
    },
    {
      "cell_type": "code",
      "source": [
        "from google.colab import drive\n",
        "drive.mount('/content/drive')"
      ],
      "metadata": {
        "colab": {
          "base_uri": "https://localhost:8080/"
        },
        "id": "CJIz0_GkvJDM",
        "outputId": "1b57537f-4b40-44a2-e07f-cb0cc798ac88"
      },
      "execution_count": 4,
      "outputs": [
        {
          "output_type": "stream",
          "name": "stdout",
          "text": [
            "Mounted at /content/drive\n"
          ]
        }
      ]
    },
    {
      "cell_type": "code",
      "execution_count": 18,
      "metadata": {
        "id": "oWZaBb7WtsIy"
      },
      "outputs": [],
      "source": [
        "import pandas as pd\n",
        "import numpy as np"
      ]
    },
    {
      "cell_type": "markdown",
      "source": [
        "##### After I have mounted drive to Colab, I can access any files in my Google Drive by modify the file_path (see below). You can make a copy of the entire dataset folder to your own Google Drive and modify the path accordingly. "
      ],
      "metadata": {
        "id": "5JOgCtC-viLR"
      }
    },
    {
      "cell_type": "code",
      "source": [
        "file_path = '/content/drive/MyDrive/Project_4_MTDNN/ChEMBL Datasets/CHEMBL3371.csv'"
      ],
      "metadata": {
        "id": "OCOUiamhuHsO"
      },
      "execution_count": 5,
      "outputs": []
    },
    {
      "cell_type": "code",
      "source": [
        "# Read in the original ChEMBL dataset\n",
        "df = pd.read_csv(file_path,   delimiter=';', skiprows=0, low_memory=False)\n",
        "# Take a look at the size of the original dataset\n",
        "print(df.shape)"
      ],
      "metadata": {
        "colab": {
          "base_uri": "https://localhost:8080/"
        },
        "id": "gS6SbmxduhST",
        "outputId": "e8180945-efa5-41fb-9ddd-266050303c02"
      },
      "execution_count": 9,
      "outputs": [
        {
          "output_type": "stream",
          "name": "stdout",
          "text": [
            "(9363, 45)\n"
          ]
        }
      ]
    },
    {
      "cell_type": "code",
      "source": [
        "# A quick look at all columns \n",
        "df.columns"
      ],
      "metadata": {
        "colab": {
          "base_uri": "https://localhost:8080/"
        },
        "id": "HNMFSdhxxxki",
        "outputId": "5fdc5209-edac-4cbe-a11a-09048426420c"
      },
      "execution_count": 10,
      "outputs": [
        {
          "output_type": "execute_result",
          "data": {
            "text/plain": [
              "Index(['Molecule ChEMBL ID', 'Molecule Name', 'Molecule Max Phase',\n",
              "       'Molecular Weight', '#RO5 Violations', 'AlogP', 'Compound Key',\n",
              "       'Smiles', 'Standard Type', 'Standard Relation', 'Standard Value',\n",
              "       'Standard Units', 'pChEMBL Value', 'Data Validity Comment', 'Comment',\n",
              "       'Uo Units', 'Ligand Efficiency BEI', 'Ligand Efficiency LE',\n",
              "       'Ligand Efficiency LLE', 'Ligand Efficiency SEI', 'Potential Duplicate',\n",
              "       'Assay ChEMBL ID', 'Assay Description', 'Assay Type', 'BAO Format ID',\n",
              "       'BAO Label', 'Assay Organism', 'Assay Tissue ChEMBL ID',\n",
              "       'Assay Tissue Name', 'Assay Cell Type', 'Assay Subcellular Fraction',\n",
              "       'Assay Parameters', 'Assay Variant Accession', 'Assay Variant Mutation',\n",
              "       'Target ChEMBL ID', 'Target Name', 'Target Organism', 'Target Type',\n",
              "       'Document ChEMBL ID', 'Source ID', 'Source Description',\n",
              "       'Document Journal', 'Document Year', 'Cell ChEMBL ID', 'Properties'],\n",
              "      dtype='object')"
            ]
          },
          "metadata": {},
          "execution_count": 10
        }
      ]
    },
    {
      "cell_type": "markdown",
      "source": [
        "###### Some simple analysis to check with the filters\n",
        "1. Only compounds with reported direct interactions. This corresponds to 'Assay Type' = 'B' \n",
        "\n",
        "For example, this dataset includes assay type:\n",
        "* 'F' - Biological effect of a compound\n",
        "* 'B' - Binding of compounds to a molecular target, e.g. Ki, IC50, Kd\n",
        "* 'A' - ADME data, e.g. t1/2, oral bioavailability\n",
        "\n",
        "(For further information: https://chembl.gitbook.io/chembl-interface-documentation/frequently-asked-questions/chembl-data-questions) "
      ],
      "metadata": {
        "id": "Tds107aPxhcp"
      }
    },
    {
      "cell_type": "code",
      "source": [
        "print(df['Assay Type'].unique())"
      ],
      "metadata": {
        "colab": {
          "base_uri": "https://localhost:8080/"
        },
        "id": "3f5dj2GzukfL",
        "outputId": "a33d2c38-87d8-40a5-8981-fb10ab0d325e"
      },
      "execution_count": 11,
      "outputs": [
        {
          "output_type": "stream",
          "name": "stdout",
          "text": [
            "['F' 'B' 'A']\n"
          ]
        }
      ]
    },
    {
      "cell_type": "markdown",
      "source": [
        "2. Exact activity measures. This corresponds to 'Standard Relation' = \"'='\""
      ],
      "metadata": {
        "id": "PmSLZA9Dy6Dh"
      }
    },
    {
      "cell_type": "code",
      "source": [
        "print(df['Standard Relation'].unique())"
      ],
      "metadata": {
        "colab": {
          "base_uri": "https://localhost:8080/"
        },
        "id": "6BUGtwR0yxir",
        "outputId": "0ce1a561-752a-49ef-93a7-2b82083502aa"
      },
      "execution_count": 12,
      "outputs": [
        {
          "output_type": "stream",
          "name": "stdout",
          "text": [
            "[nan \"'='\" \"'<'\" \"'>'\" \"'~'\" \"'<='\"]\n"
          ]
        }
      ]
    },
    {
      "cell_type": "markdown",
      "source": [
        "3. Only standard potency measurements were considered. \n",
        "\n",
        "This is a bit complicated. However, we can utilize the correlation between different standard type (activity type) vs. pChEMBL Value. \n",
        "\n",
        "All numerical measurements reported in various units were standardized to 'Standard Value\" in nM. This is converted to a negative logarithmic scale.\n",
        "\n",
        "IC50 = 1 nm is equivalent to pChEMBL Value of 9. \n",
        "Higher the potency (lower IC50), smaller the pChEMBL value. (Think in terms of aciditiy vs pH) \n",
        "\n",
        "Which means, only standard potency measurements would have numerical pChEMBL Values reported. \n",
        "\n",
        "I did a groupby analysis to identify and extract 'Standard Type' with numerical 'pChEMBL Values'."
      ],
      "metadata": {
        "id": "YwgaJ6q83CHm"
      }
    },
    {
      "cell_type": "code",
      "source": [
        "print(df['Standard Type'].unique())"
      ],
      "metadata": {
        "colab": {
          "base_uri": "https://localhost:8080/"
        },
        "id": "7ocanE9dzMXH",
        "outputId": "da3ca791-8fa3-416d-fd7b-e5e4f48a6a92"
      },
      "execution_count": 13,
      "outputs": [
        {
          "output_type": "stream",
          "name": "stdout",
          "text": [
            "['IC50' 'Ki' 'Activity' 'Imax' 'EC50' 'Inhibition' 'Emax' 'Kbapp' 'Kd'\n",
            " 'Kb' 'Efficacy' '%max' 'Log Ki' 'IA' 'Delta pKi' 'pKb' 'INH' '% Ctrl'\n",
            " 'pA2' 'Displacement' 'pKi'\n",
            " '% Inhibition of Control Agonist Response (Mean n=2)'\n",
            " 'Activation (% of control)' 'effect'\n",
            " '% of Control Agonist Response (Mean n=2)' 'Affinity'\n",
            " 'Mean fold stimulation'\n",
            " '% Inhibition of Control Specific Binding (Mean n=2)'\n",
            " 'Inhibition (% of control)']\n"
          ]
        }
      ]
    },
    {
      "cell_type": "code",
      "source": [
        "# group the dataframe by type and inspect the pchembl_value column\n",
        "grouped = df.groupby('Standard Type')['pChEMBL Value']\n",
        "\n",
        "activities = []\n",
        "# check if any group has only numerical values or only None values\n",
        "for group_name, group_values in grouped:\n",
        "    group_values = group_values.dropna()\n",
        "    if len(group_values) == 0:\n",
        "        print(f\"All values in group {group_name} are None.\")\n",
        "    elif all(isinstance(val, float) for val in group_values):\n",
        "        print(f\"All values in group {group_name} are numerical.\")\n",
        "        activities.append(group_name)\n",
        "    else:\n",
        "        print(f\"Group {group_name} has mixed data types.\")\n",
        "        \n",
        "print(\"Standard potency measurement types to keep are:\", activities)"
      ],
      "metadata": {
        "colab": {
          "base_uri": "https://localhost:8080/"
        },
        "id": "v_sW-Z184fZP",
        "outputId": "a1a8ac8e-68b8-4abf-b6e8-64d3dece2f2b"
      },
      "execution_count": 14,
      "outputs": [
        {
          "output_type": "stream",
          "name": "stdout",
          "text": [
            "All values in group % Ctrl are None.\n",
            "All values in group % Inhibition of Control Agonist Response (Mean n=2) are None.\n",
            "All values in group % Inhibition of Control Specific Binding (Mean n=2) are None.\n",
            "All values in group % of Control Agonist Response (Mean n=2) are None.\n",
            "All values in group %max are None.\n",
            "All values in group Activation (% of control) are None.\n",
            "All values in group Activity are None.\n",
            "All values in group Affinity are None.\n",
            "All values in group Delta pKi are None.\n",
            "All values in group Displacement are None.\n",
            "All values in group EC50 are numerical.\n",
            "All values in group Efficacy are None.\n",
            "All values in group Emax are None.\n",
            "All values in group IA are None.\n",
            "All values in group IC50 are numerical.\n",
            "All values in group INH are None.\n",
            "All values in group Imax are None.\n",
            "All values in group Inhibition are None.\n",
            "All values in group Inhibition (% of control) are None.\n",
            "All values in group Kb are None.\n",
            "All values in group Kbapp are None.\n",
            "All values in group Kd are numerical.\n",
            "All values in group Ki are numerical.\n",
            "All values in group Log Ki are None.\n",
            "All values in group Mean fold stimulation are None.\n",
            "All values in group effect are None.\n",
            "All values in group pA2 are None.\n",
            "All values in group pKb are None.\n",
            "All values in group pKi are None.\n",
            "Standard potency measurement types to keep are: ['EC50', 'IC50', 'Kd', 'Ki']\n"
          ]
        }
      ]
    },
    {
      "cell_type": "markdown",
      "source": [
        "4. All compounds annotated as ('inactive', 'not active', 'inconclusive', 'potential transcription error', or 'pan assay interference compounds (PAINS)') were discarded. \n",
        "\n",
        "I also did some investigation of how to best implement this filter, as explained below:"
      ],
      "metadata": {
        "id": "kiOIfv7A4sHs"
      }
    },
    {
      "cell_type": "code",
      "source": [
        "# The 'Comment' column contains a mixture of Non, string, and numerical values:\n",
        "df.Comment[0:20]"
      ],
      "metadata": {
        "colab": {
          "base_uri": "https://localhost:8080/"
        },
        "id": "RbFvDtbc4myV",
        "outputId": "ea3774d2-4ae5-4d72-a6be-66603289f6b5"
      },
      "execution_count": 15,
      "outputs": [
        {
          "output_type": "execute_result",
          "data": {
            "text/plain": [
              "0          Not Active\n",
              "1                 NaN\n",
              "2                 NaN\n",
              "3                 NaN\n",
              "4                 NaN\n",
              "5              309762\n",
              "6              309798\n",
              "7                 NaN\n",
              "8                 NaN\n",
              "9                 NaN\n",
              "10             221395\n",
              "11                NaN\n",
              "12             222882\n",
              "13             222783\n",
              "14                NaN\n",
              "15                NaN\n",
              "16    Partial agonist\n",
              "17                NaN\n",
              "18                NaN\n",
              "19                NaN\n",
              "Name: Comment, dtype: object"
            ]
          },
          "metadata": {},
          "execution_count": 15
        }
      ]
    },
    {
      "cell_type": "code",
      "source": [
        "# I used regular expressions to replace all numerical values by NaN\n",
        "df['Comment'] = df['Comment'].replace(to_replace=r'^\\d+$', value=np.nan, regex=True)\n",
        "print(df.Comment[0:20])\n",
        "print(df['Comment'].unique())"
      ],
      "metadata": {
        "colab": {
          "base_uri": "https://localhost:8080/"
        },
        "id": "uJ9-55bF5WVc",
        "outputId": "b28964fa-3af1-4356-e0b7-47fa0c638fea"
      },
      "execution_count": 21,
      "outputs": [
        {
          "output_type": "stream",
          "name": "stdout",
          "text": [
            "0          Not Active\n",
            "1                 NaN\n",
            "2                 NaN\n",
            "3                 NaN\n",
            "4                 NaN\n",
            "5                 NaN\n",
            "6                 NaN\n",
            "7                 NaN\n",
            "8                 NaN\n",
            "9                 NaN\n",
            "10                NaN\n",
            "11                NaN\n",
            "12                NaN\n",
            "13                NaN\n",
            "14                NaN\n",
            "15                NaN\n",
            "16    Partial agonist\n",
            "17                NaN\n",
            "18                NaN\n",
            "19                NaN\n",
            "Name: Comment, dtype: object\n",
            "['Not Active' nan 'Partial agonist' 'Not Determined'\n",
            " 'Not Active (inhibition < 50% @ 10 uM and thus dose-reponse curve not measured)'\n",
            " 'Active' 'Agonist' 'Dose-dependent effect' 'Antagonist' 'Slightly Active'\n",
            " 'Dose-Dependent Effect']\n"
          ]
        }
      ]
    },
    {
      "cell_type": "code",
      "source": [
        "# I noticed that it appeared that any compound with numerical pChEMBL Value does not have Comment, or in another word, have only NaN. \n",
        "# The following groupby analysis is to confirm whether this observation is true:\n",
        "\n",
        "grouped = df.groupby('Comment')['pChEMBL Value']\n",
        "\n",
        "# check if any group has only numerical values or only None values\n",
        "for group_name, group_values in grouped:\n",
        "    group_values = group_values.dropna()\n",
        "    if len(group_values) == 0:\n",
        "        print(f\"All values in group {group_name} are None.\")\n",
        "    elif all(isinstance(val, float) for val in group_values):\n",
        "        print(f\"All values in group {group_name} are numerical.\")\n",
        "        \n",
        "    else:\n",
        "        print(f\"Group {group_name} has mixed data types.\")"
      ],
      "metadata": {
        "colab": {
          "base_uri": "https://localhost:8080/"
        },
        "id": "bgoUO5a55j96",
        "outputId": "3e790c18-8cd8-4748-b6eb-63897db58f53"
      },
      "execution_count": 22,
      "outputs": [
        {
          "output_type": "stream",
          "name": "stdout",
          "text": [
            "All values in group Active are None.\n",
            "All values in group Agonist are None.\n",
            "All values in group Antagonist are None.\n",
            "All values in group Dose-Dependent Effect are None.\n",
            "All values in group Dose-dependent effect are None.\n",
            "All values in group Not Active are None.\n",
            "All values in group Not Active (inhibition < 50% @ 10 uM and thus dose-reponse curve not measured) are None.\n",
            "All values in group Not Determined are None.\n",
            "All values in group Partial agonist are None.\n",
            "All values in group Slightly Active are None.\n"
          ]
        }
      ]
    },
    {
      "cell_type": "markdown",
      "source": [
        "We can conclude that keep only rows with 'Comment' = NaN, we can drop any compounds with undesirable annotations. "
      ],
      "metadata": {
        "id": "h4nAft-G6TLX"
      }
    },
    {
      "cell_type": "code",
      "source": [],
      "metadata": {
        "id": "xiUtQXx76Oy8"
      },
      "execution_count": null,
      "outputs": []
    }
  ]
}